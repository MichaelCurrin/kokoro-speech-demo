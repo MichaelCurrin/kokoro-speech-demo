{
 "cells": [
  {
   "cell_type": "markdown",
   "metadata": {},
   "source": [
    "# Compare\n",
    "\n",
    "Output in English with multiple accents and voices within those."
   ]
  },
  {
   "cell_type": "code",
   "execution_count": null,
   "metadata": {},
   "outputs": [],
   "source": [
    "from kokoro import KPipeline\n",
    "from IPython.display import display, Audio\n",
    "import soundfile as sf"
   ]
  },
  {
   "cell_type": "code",
   "execution_count": null,
   "metadata": {},
   "outputs": [],
   "source": [
    "def generate_clip(text: str, pipeline: KPipeline, voice: str):\n",
    "    generator = pipeline(\n",
    "        text, voice=voice,\n",
    "        speed=1, split_pattern=r'\\n+'\n",
    "    )\n",
    "    for _, _, audio in generator:\n",
    "        display(Audio(data=audio, rate=24000))\n",
    "        sf.write(f'var/compare_a_{voice}.wav', audio, 24000)"
   ]
  },
  {
   "cell_type": "code",
   "execution_count": null,
   "metadata": {},
   "outputs": [],
   "source": [
    "text = \"Welcome to today's forest meditation session.\""
   ]
  },
  {
   "cell_type": "code",
   "execution_count": null,
   "metadata": {},
   "outputs": [],
   "source": [
    "pipeline_a = KPipeline(lang_code='a', repo_id='hexgrad/Kokoro-82M')\n",
    "pipeline_b = KPipeline(lang_code='b', repo_id='hexgrad/Kokoro-82M')"
   ]
  },
  {
   "cell_type": "code",
   "execution_count": null,
   "metadata": {},
   "outputs": [],
   "source": [
    "voices = [\"af_heart\", \"af_bella\", 'af_kore', 'af_sarah', 'af_nicole', 'am_fenrir', 'am_michael', 'am_puck']\n",
    "for voice in voices:\n",
    "    print(voice)\n",
    "    generate_clip(text, pipeline_a, voice)"
   ]
  },
  {
   "cell_type": "code",
   "execution_count": null,
   "metadata": {},
   "outputs": [],
   "source": [
    "voices = [\"bf_emma\", \"bf_isabella\", 'bm_fable', 'bm_george']\n",
    "for voice in voices:\n",
    "    print(voice)\n",
    "    generate_clip(text, pipeline_b, voice)"
   ]
  }
 ],
 "metadata": {
  "kernelspec": {
   "display_name": "kokoro-test-qYSZTUwK-py3.12",
   "language": "python",
   "name": "python3"
  },
  "language_info": {
   "codemirror_mode": {
    "name": "ipython",
    "version": 3
   },
   "file_extension": ".py",
   "mimetype": "text/x-python",
   "name": "python",
   "nbconvert_exporter": "python",
   "pygments_lexer": "ipython3",
   "version": "3.12.8"
  }
 },
 "nbformat": 4,
 "nbformat_minor": 2
}
